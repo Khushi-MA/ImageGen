{
 "cells": [
  {
   "cell_type": "code",
   "execution_count": 1,
   "metadata": {},
   "outputs": [
    {
     "name": "stderr",
     "output_type": "stream",
     "text": [
      "c:\\ProgramData\\anaconda3\\Lib\\site-packages\\pythreejs\\traits.py:257: UserWarning: 64-bit data types not supported for WebGL data, casting to 32-bit.\n",
      "  warnings.warn('64-bit data types not supported for WebGL '\n"
     ]
    },
    {
     "data": {
      "application/vnd.jupyter.widget-view+json": {
       "model_id": "853e4a401f534a5395d6ae0a0e3cf3ad",
       "version_major": 2,
       "version_minor": 0
      },
      "text/plain": [
       "Renderer(camera=PerspectiveCamera(fov=75.0, position=(0.0, 0.0, 5.0), projectionMatrix=(1.0, 0.0, 0.0, 0.0, 0.…"
      ]
     },
     "metadata": {},
     "output_type": "display_data"
    }
   ],
   "source": [
    "import numpy as np\n",
    "import pythreejs as p3\n",
    "\n",
    "# Load landmarks from the text file\n",
    "landmarks = np.array([\n",
    "    [-0.70439714, -0.7043081, 0.52211404],\n",
    "    [0.1923304, 0.6561428, -0.69144255],\n",
    "    [-0.4537562, -0.24369775, 0.57196224],\n",
    "    [-0.16623944, 0.12437439, -0.09114599],\n",
    "    [0.87196153, -0.3239215, 0.83133215],\n",
    "    [-0.49188694, -0.10055736, 0.08236312],\n",
    "    [-0.4033545, -0.49955654, 0.1254675],\n",
    "    [0.4305055, -0.49981576, 0.3641594],\n",
    "    [-0.00460756, -0.2067437, -0.38215974],\n",
    "    [-0.81333923, 0.3753499, 0.24025993],\n",
    "    [-0.6564378, -0.17453367, 0.0010995],\n",
    "    [0.22814138, 0.88626516, -0.45687675],\n",
    "    [0.3425319, 0.21162185, -0.6624901],\n",
    "    [-0.03070711, -0.14342755, -0.05010448],\n",
    "    [-0.5312416, -0.45891002, -0.81795156],\n",
    "    [-0.2541334, -0.33181587, -0.18649535],\n",
    "    [-0.45287946, -0.5832761, 0.21290246],\n",
    "    [-0.66198725, -0.20990744, 0.13905263],\n",
    "    [-0.23904552, -0.52455944, -0.73023003],\n",
    "    [-0.80460703, -0.42547503, 0.01161546],\n",
    "    [-0.5249965, 0.6095728, 0.76495874]\n",
    "])\n",
    "\n",
    "# Create a 3D hand model (simplified example)\n",
    "geometry = p3.BufferGeometry(\n",
    "    attributes={\n",
    "        'position': p3.BufferAttribute(landmarks, normalized=False)\n",
    "    }\n",
    ")\n",
    "material = p3.MeshBasicMaterial(color='blue', wireframe=True)\n",
    "hand_model = p3.Mesh(geometry=geometry, material=material)\n",
    "\n",
    "# Set up the scene\n",
    "scene = p3.Scene(children=[hand_model, p3.AmbientLight(color='#777777')])\n",
    "camera = p3.PerspectiveCamera(position=[0, 0, 5], fov=75)\n",
    "renderer = p3.Renderer(camera=camera, scene=scene, controls=[p3.OrbitControls(controlling=camera)])\n",
    "\n",
    "# Display the 3D hand model\n",
    "display(renderer)"
   ]
  },
  {
   "cell_type": "code",
   "execution_count": null,
   "metadata": {},
   "outputs": [],
   "source": []
  },
  {
   "cell_type": "code",
   "execution_count": 2,
   "metadata": {},
   "outputs": [
    {
     "name": "stderr",
     "output_type": "stream",
     "text": [
      "c:\\ProgramData\\anaconda3\\Lib\\site-packages\\pythreejs\\traits.py:257: UserWarning: 64-bit data types not supported for WebGL data, casting to 32-bit.\n",
      "  warnings.warn('64-bit data types not supported for WebGL '\n"
     ]
    },
    {
     "data": {
      "application/vnd.jupyter.widget-view+json": {
       "model_id": "407bdb29c06c4c868b31ce59a54cf4ec",
       "version_major": 2,
       "version_minor": 0
      },
      "text/plain": [
       "Renderer(camera=PerspectiveCamera(fov=75.0, position=(0.0, 0.0, 5.0), projectionMatrix=(1.0, 0.0, 0.0, 0.0, 0.…"
      ]
     },
     "metadata": {},
     "output_type": "display_data"
    }
   ],
   "source": [
    "import numpy as np\n",
    "import pythreejs as p3\n",
    "from IPython.display import display\n",
    "\n",
    "# Define the landmarks\n",
    "landmarks = np.array([\n",
    "    [-0.70439714, -0.7043081, 0.52211404],\n",
    "    [0.1923304, 0.6561428, -0.69144255],\n",
    "    [-0.4537562, -0.24369775, 0.57196224],\n",
    "    [-0.16623944, 0.12437439, -0.09114599],\n",
    "    [0.87196153, -0.3239215, 0.83133215],\n",
    "    [-0.49188694, -0.10055736, 0.08236312],\n",
    "    [-0.4033545, -0.49955654, 0.1254675],\n",
    "    [0.4305055, -0.49981576, 0.3641594],\n",
    "    [-0.00460756, -0.2067437, -0.38215974],\n",
    "    [-0.81333923, 0.3753499, 0.24025993],\n",
    "    [-0.6564378, -0.17453367, 0.0010995],\n",
    "    [0.22814138, 0.88626516, -0.45687675],\n",
    "    [0.3425319, 0.21162185, -0.6624901],\n",
    "    [-0.03070711, -0.14342755, -0.05010448],\n",
    "    [-0.5312416, -0.45891002, -0.81795156],\n",
    "    [-0.2541334, -0.33181587, -0.18649535],\n",
    "    [-0.45287946, -0.5832761, 0.21290246],\n",
    "    [-0.66198725, -0.20990744, 0.13905263],\n",
    "    [-0.23904552, -0.52455944, -0.73023003],\n",
    "    [-0.80460703, -0.42547503, 0.01161546],\n",
    "    [-0.5249965, 0.6095728, 0.76495874]\n",
    "])\n",
    "\n",
    "# Create a 3D hand model (simplified example)\n",
    "geometry = p3.BufferGeometry(\n",
    "    attributes={\n",
    "        'position': p3.BufferAttribute(landmarks, normalized=False)\n",
    "    }\n",
    ")\n",
    "material = p3.MeshBasicMaterial(color='blue', wireframe=True)\n",
    "hand_model = p3.Mesh(geometry=geometry, material=material)\n",
    "\n",
    "# Set up the scene\n",
    "scene = p3.Scene(children=[hand_model, p3.AmbientLight(color='#777777')])\n",
    "camera = p3.PerspectiveCamera(position=[0, 0, 5], fov=75)\n",
    "renderer = p3.Renderer(camera=camera, scene=scene, controls=[p3.OrbitControls(controlling=camera)])\n",
    "\n",
    "# Display the 3D hand model\n",
    "display(renderer)"
   ]
  },
  {
   "cell_type": "code",
   "execution_count": null,
   "metadata": {},
   "outputs": [],
   "source": []
  },
  {
   "cell_type": "code",
   "execution_count": null,
   "metadata": {},
   "outputs": [],
   "source": []
  }
 ],
 "metadata": {
  "kernelspec": {
   "display_name": "base",
   "language": "python",
   "name": "python3"
  },
  "language_info": {
   "codemirror_mode": {
    "name": "ipython",
    "version": 3
   },
   "file_extension": ".py",
   "mimetype": "text/x-python",
   "name": "python",
   "nbconvert_exporter": "python",
   "pygments_lexer": "ipython3",
   "version": "3.12.3"
  }
 },
 "nbformat": 4,
 "nbformat_minor": 2
}
