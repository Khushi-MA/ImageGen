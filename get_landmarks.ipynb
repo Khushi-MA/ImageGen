{
 "cells": [
  {
   "cell_type": "code",
   "execution_count": 1,
   "metadata": {},
   "outputs": [
    {
     "name": "stdout",
     "output_type": "stream",
     "text": [
      "Hand landmarks written to hand_landmarks.txt\n"
     ]
    }
   ],
   "source": [
    "import cv2\n",
    "import mediapipe as mp\n",
    "\n",
    "# Initialize MediaPipe Hands\n",
    "mp_hands = mp.solutions.hands\n",
    "hands = mp_hands.Hands(static_image_mode=True, max_num_hands=1, min_detection_confidence=0.5)\n",
    "mp_drawing = mp.solutions.drawing_utils\n",
    "\n",
    "# Load the input image\n",
    "image_path = \"Y2.jpg\"  # Replace with your image path\n",
    "image = cv2.imread(image_path)\n",
    "if image is None:\n",
    "    raise FileNotFoundError(f\"Image not found at {image_path}\")\n",
    "\n",
    "# Convert the image to RGB\n",
    "image_rgb = cv2.cvtColor(image, cv2.COLOR_BGR2RGB)\n",
    "\n",
    "# Process the image and find hand landmarks\n",
    "results = hands.process(image_rgb)\n",
    "\n",
    "# Check if any hands are detected\n",
    "if results.multi_hand_landmarks:\n",
    "    with open(\"hand_landmarks.txt\", \"w\") as file:\n",
    "        for hand_landmarks in results.multi_hand_landmarks:\n",
    "            file.write(\"Hand Landmarks:\\n\")\n",
    "            for idx, landmark in enumerate(hand_landmarks.landmark):\n",
    "                file.write(f\"Landmark {idx}: {landmark.x}, {landmark.y}, {landmark.z}\\n\")\n",
    "            file.write(\"\\n\")\n",
    "    print(\"Hand landmarks written to hand_landmarks.txt\")\n",
    "else:\n",
    "    print(\"No hands detected in the image.\")\n",
    "\n",
    "# Close the MediaPipe Hands instance\n",
    "hands.close()\n"
   ]
  },
  {
   "cell_type": "code",
   "execution_count": null,
   "metadata": {},
   "outputs": [],
   "source": []
  },
  {
   "cell_type": "code",
   "execution_count": null,
   "metadata": {},
   "outputs": [],
   "source": []
  },
  {
   "cell_type": "code",
   "execution_count": 2,
   "metadata": {},
   "outputs": [
    {
     "name": "stdout",
     "output_type": "stream",
     "text": [
      "Image with landmarks saved to output_image_with_landmarks.jpg\n"
     ]
    }
   ],
   "source": [
    "import cv2\n",
    "import mediapipe as mp\n",
    "\n",
    "# Initialize MediaPipe Hands\n",
    "mp_hands = mp.solutions.hands\n",
    "hands = mp_hands.Hands(static_image_mode=True, max_num_hands=1, min_detection_confidence=0.5)\n",
    "mp_drawing = mp.solutions.drawing_utils\n",
    "\n",
    "# Load the input image\n",
    "image_path = \"Y2.jpg\"  # Replace with your image path\n",
    "image = cv2.imread(image_path)\n",
    "if image is None:\n",
    "    raise FileNotFoundError(f\"Image not found at {image_path}\")\n",
    "\n",
    "# Convert the image to RGB\n",
    "image_rgb = cv2.cvtColor(image, cv2.COLOR_BGR2RGB)\n",
    "\n",
    "# Process the image and find hand landmarks\n",
    "results = hands.process(image_rgb)\n",
    "\n",
    "# Check if any hands are detected\n",
    "if results.multi_hand_landmarks:\n",
    "    for hand_landmarks in results.multi_hand_landmarks:\n",
    "        # Draw landmarks on the image\n",
    "        mp_drawing.draw_landmarks(image, hand_landmarks, mp_hands.HAND_CONNECTIONS)\n",
    "\n",
    "    # Save the image with landmarks\n",
    "    output_image_path = \"output_image_with_landmarks.jpg\"\n",
    "    cv2.imwrite(output_image_path, image)\n",
    "    print(f\"Image with landmarks saved to {output_image_path}\")\n",
    "else:\n",
    "    print(\"No hands detected in the image.\")\n",
    "\n",
    "# Close the MediaPipe Hands instance\n",
    "hands.close()\n"
   ]
  },
  {
   "cell_type": "code",
   "execution_count": null,
   "metadata": {},
   "outputs": [],
   "source": []
  },
  {
   "cell_type": "code",
   "execution_count": null,
   "metadata": {},
   "outputs": [],
   "source": []
  },
  {
   "cell_type": "code",
   "execution_count": null,
   "metadata": {},
   "outputs": [],
   "source": []
  },
  {
   "cell_type": "markdown",
   "metadata": {},
   "source": [
    "# GET IMG FROM LANDMARK"
   ]
  },
  {
   "cell_type": "code",
   "execution_count": 11,
   "metadata": {},
   "outputs": [],
   "source": [
    "import numpy as np\n",
    "import cv2\n",
    "\n",
    "def visualize_hand_landmarks(landmarks):\n",
    "    \"\"\"\n",
    "    Visualize hand landmarks in a popup image with black background and lines connecting the points.\n",
    "    \n",
    "    Args:\n",
    "        landmarks (list of lists): A list of 3D coordinates in the format [x, y, z].\n",
    "    \"\"\"\n",
    "    # Scale up and shift the coordinates for better visualization\n",
    "    image_size = 512\n",
    "    scale = 200\n",
    "    offset = image_size // 2\n",
    "\n",
    "    # Create a black canvas\n",
    "    canvas = np.zeros((image_size, image_size, 3), dtype=np.uint8)\n",
    "\n",
    "    # Convert landmarks to 2D by ignoring z and scaling\n",
    "    points = [(int(offset + x * scale), int(offset - y * scale)) for x, y, z in landmarks]\n",
    "\n",
    "    # Define connections (based on Mediapipe hand model connections)\n",
    "    connections = [\n",
    "        (0, 1), (1, 2), (2, 3), (3, 4),  # Thumb\n",
    "        (0, 5), (5, 6), (6, 7), (7, 8),  # Index finger\n",
    "        (5, 9), (9, 10), (10, 11), (11, 12),  # Middle finger\n",
    "        (9, 13), (13, 14), (14, 15), (15, 16),  # Ring finger\n",
    "        (13, 17), (17, 18), (18, 19), (19, 20),  # Pinky finger\n",
    "        (0, 17)  # Wrist to pinky base\n",
    "    ]\n",
    "\n",
    "    # Draw the connections\n",
    "    for start, end in connections:\n",
    "        if start < len(points) and end < len(points):\n",
    "            cv2.line(canvas, points[start], points[end], (255, 255, 255), thickness=2)\n",
    "\n",
    "    # Draw the landmarks as circles\n",
    "    for point in points:\n",
    "        cv2.circle(canvas, point, radius=4, color=(0, 255, 0), thickness=-1)\n",
    "\n",
    "    # Show the image in a popup window\n",
    "    cv2.imshow(\"Hand Landmarks\", canvas)\n",
    "    cv2.waitKey(0)\n",
    "    cv2.destroyAllWindows()\n",
    "\n",
    "input_landmarks = [\n",
    "    [-0.70439714, -0.7043081 ,  0.52211404],\n",
    "    [ 0.1923304 ,  0.6561428 , -0.69144255],\n",
    "    [-0.4537562 , -0.24369775,  0.57196224],\n",
    "    [-0.16623944,  0.12437439, -0.09114599],\n",
    "    [ 0.87196153, -0.3239215 ,  0.83133215],\n",
    "    [-0.49188694, -0.10055736,  0.08236312],\n",
    "    [-0.4033545 , -0.49955654,  0.1254675 ],\n",
    "    [ 0.4305055 , -0.49981576,  0.3641594 ],\n",
    "    [-0.00460756, -0.2067437 , -0.38215974],\n",
    "    [-0.81333923,  0.3753499 ,  0.24025993],\n",
    "    [-0.6564378 , -0.17453367,  0.0010995 ],\n",
    "    [ 0.22814138,  0.88626516, -0.45687675],\n",
    "    [ 0.3425319 ,  0.21162185, -0.6624901 ],\n",
    "    [-0.03070711, -0.14342755, -0.05010448],\n",
    "    [-0.5312416 , -0.45891002, -0.81795156],\n",
    "    [-0.2541334 , -0.33181587, -0.18649535],\n",
    "    [-0.45287946, -0.5832761 ,  0.21290246],\n",
    "    [-0.66198725, -0.20990744,  0.13905263],\n",
    "    [-0.23904552, -0.52455944, -0.73023003],\n",
    "    [-0.80460703, -0.42547503,  0.01161546],\n",
    "    [-0.5249965 ,  0.6095728 ,  0.76495874]\n",
    "]\n",
    "\n",
    "\n",
    "\n",
    "\n",
    "# Call the visualization function\n",
    "visualize_hand_landmarks(input_landmarks)\n"
   ]
  }
 ],
 "metadata": {
  "kernelspec": {
   "display_name": "base",
   "language": "python",
   "name": "python3"
  },
  "language_info": {
   "codemirror_mode": {
    "name": "ipython",
    "version": 3
   },
   "file_extension": ".py",
   "mimetype": "text/x-python",
   "name": "python",
   "nbconvert_exporter": "python",
   "pygments_lexer": "ipython3",
   "version": "3.12.3"
  }
 },
 "nbformat": 4,
 "nbformat_minor": 2
}
