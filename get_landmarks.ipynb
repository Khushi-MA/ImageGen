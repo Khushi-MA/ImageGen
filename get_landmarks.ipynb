{
 "cells": [
  {
   "cell_type": "code",
   "execution_count": 1,
   "metadata": {},
   "outputs": [
    {
     "name": "stdout",
     "output_type": "stream",
     "text": [
      "Hand landmarks written to hand_landmarks.txt\n"
     ]
    }
   ],
   "source": [
    "import cv2\n",
    "import mediapipe as mp\n",
    "\n",
    "# Initialize MediaPipe Hands\n",
    "mp_hands = mp.solutions.hands\n",
    "hands = mp_hands.Hands(static_image_mode=True, max_num_hands=1, min_detection_confidence=0.5)\n",
    "mp_drawing = mp.solutions.drawing_utils\n",
    "\n",
    "# Load the input image\n",
    "image_path = \"Y2.jpg\"  # Replace with your image path\n",
    "image = cv2.imread(image_path)\n",
    "if image is None:\n",
    "    raise FileNotFoundError(f\"Image not found at {image_path}\")\n",
    "\n",
    "# Convert the image to RGB\n",
    "image_rgb = cv2.cvtColor(image, cv2.COLOR_BGR2RGB)\n",
    "\n",
    "# Process the image and find hand landmarks\n",
    "results = hands.process(image_rgb)\n",
    "\n",
    "# Check if any hands are detected\n",
    "if results.multi_hand_landmarks:\n",
    "    with open(\"hand_landmarks.txt\", \"w\") as file:\n",
    "        for hand_landmarks in results.multi_hand_landmarks:\n",
    "            file.write(\"Hand Landmarks:\\n\")\n",
    "            for idx, landmark in enumerate(hand_landmarks.landmark):\n",
    "                file.write(f\"Landmark {idx}: {landmark.x}, {landmark.y}, {landmark.z}\\n\")\n",
    "            file.write(\"\\n\")\n",
    "    print(\"Hand landmarks written to hand_landmarks.txt\")\n",
    "else:\n",
    "    print(\"No hands detected in the image.\")\n",
    "\n",
    "# Close the MediaPipe Hands instance\n",
    "hands.close()\n"
   ]
  },
  {
   "cell_type": "code",
   "execution_count": null,
   "metadata": {},
   "outputs": [],
   "source": []
  },
  {
   "cell_type": "code",
   "execution_count": null,
   "metadata": {},
   "outputs": [],
   "source": []
  },
  {
   "cell_type": "code",
   "execution_count": 2,
   "metadata": {},
   "outputs": [
    {
     "name": "stdout",
     "output_type": "stream",
     "text": [
      "Image with landmarks saved to output_image_with_landmarks.jpg\n"
     ]
    }
   ],
   "source": [
    "import cv2\n",
    "import mediapipe as mp\n",
    "\n",
    "# Initialize MediaPipe Hands\n",
    "mp_hands = mp.solutions.hands\n",
    "hands = mp_hands.Hands(static_image_mode=True, max_num_hands=1, min_detection_confidence=0.5)\n",
    "mp_drawing = mp.solutions.drawing_utils\n",
    "\n",
    "# Load the input image\n",
    "image_path = \"Y2.jpg\"  # Replace with your image path\n",
    "image = cv2.imread(image_path)\n",
    "if image is None:\n",
    "    raise FileNotFoundError(f\"Image not found at {image_path}\")\n",
    "\n",
    "# Convert the image to RGB\n",
    "image_rgb = cv2.cvtColor(image, cv2.COLOR_BGR2RGB)\n",
    "\n",
    "# Process the image and find hand landmarks\n",
    "results = hands.process(image_rgb)\n",
    "\n",
    "# Check if any hands are detected\n",
    "if results.multi_hand_landmarks:\n",
    "    for hand_landmarks in results.multi_hand_landmarks:\n",
    "        # Draw landmarks on the image\n",
    "        mp_drawing.draw_landmarks(image, hand_landmarks, mp_hands.HAND_CONNECTIONS)\n",
    "\n",
    "    # Save the image with landmarks\n",
    "    output_image_path = \"output_image_with_landmarks.jpg\"\n",
    "    cv2.imwrite(output_image_path, image)\n",
    "    print(f\"Image with landmarks saved to {output_image_path}\")\n",
    "else:\n",
    "    print(\"No hands detected in the image.\")\n",
    "\n",
    "# Close the MediaPipe Hands instance\n",
    "hands.close()\n"
   ]
  }
 ],
 "metadata": {
  "kernelspec": {
   "display_name": "base",
   "language": "python",
   "name": "python3"
  },
  "language_info": {
   "codemirror_mode": {
    "name": "ipython",
    "version": 3
   },
   "file_extension": ".py",
   "mimetype": "text/x-python",
   "name": "python",
   "nbconvert_exporter": "python",
   "pygments_lexer": "ipython3",
   "version": "3.12.3"
  }
 },
 "nbformat": 4,
 "nbformat_minor": 2
}
